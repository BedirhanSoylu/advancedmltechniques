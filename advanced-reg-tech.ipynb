{
 "cells": [
  {
   "cell_type": "code",
   "execution_count": 3,
   "metadata": {
    "_cell_guid": "b1076dfc-b9ad-4769-8c92-a6c4dae69d19",
    "_uuid": "8f2839f25d086af736a60e9eeb907d3b93b6e0e5",
    "execution": {
     "iopub.execute_input": "2023-01-18T11:34:36.732414Z",
     "iopub.status.busy": "2023-01-18T11:34:36.731945Z",
     "iopub.status.idle": "2023-01-18T11:34:36.769668Z",
     "shell.execute_reply": "2023-01-18T11:34:36.768128Z",
     "shell.execute_reply.started": "2023-01-18T11:34:36.732323Z"
    }
   },
   "outputs": [],
   "source": [
    "# This Python 3 environment comes with many helpful analytics libraries installed\n",
    "# It is defined by the kaggle/python Docker image: https://github.com/kaggle/docker-python\n",
    "# For example, here's several helpful packages to load\n",
    "\n",
    "import numpy as np # linear algebra\n",
    "import pandas as pd # data processing, CSV file I/O (e.g. pd.read_csv)\n",
    "\n",
    "# Input data files are available in the read-only \"../input/\" directory\n",
    "# For example, running this (by clicking run or pressing Shift+Enter) will list all files under the input directory\n",
    "\n",
    "import os\n",
    "for dirname, _, filenames in os.walk('/kaggle/input'):\n",
    "    for filename in filenames:\n",
    "        print(os.path.join(dirname, filename))\n",
    "\n",
    "# You can write up to 20GB to the current directory (/kaggle/working/) that gets preserved as output when you create a version using \"Save & Run All\" \n",
    "# You can also write temporary files to /kaggle/temp/, but they won't be saved outside of the current session"
   ]
  },
  {
   "cell_type": "code",
   "execution_count": 6,
   "metadata": {
    "execution": {
     "iopub.execute_input": "2023-01-18T12:36:42.892717Z",
     "iopub.status.busy": "2023-01-18T12:36:42.892305Z",
     "iopub.status.idle": "2023-01-18T12:36:42.928150Z",
     "shell.execute_reply": "2023-01-18T12:36:42.926655Z",
     "shell.execute_reply.started": "2023-01-18T12:36:42.892682Z"
    }
   },
   "outputs": [
    {
     "ename": "FileNotFoundError",
     "evalue": "[Errno 2] No such file or directory: 'train.csv'",
     "output_type": "error",
     "traceback": [
      "\u001b[1;31m---------------------------------------------------------------------------\u001b[0m",
      "\u001b[1;31mFileNotFoundError\u001b[0m                         Traceback (most recent call last)",
      "\u001b[1;32m~\\AppData\\Local\\Temp/ipykernel_10856/2436019669.py\u001b[0m in \u001b[0;36m<module>\u001b[1;34m\u001b[0m\n\u001b[1;32m----> 1\u001b[1;33m \u001b[0mdf\u001b[0m \u001b[1;33m=\u001b[0m \u001b[0mpd\u001b[0m\u001b[1;33m.\u001b[0m\u001b[0mread_csv\u001b[0m\u001b[1;33m(\u001b[0m\u001b[1;34m'train.csv'\u001b[0m\u001b[1;33m)\u001b[0m\u001b[1;33m\u001b[0m\u001b[1;33m\u001b[0m\u001b[0m\n\u001b[0m",
      "\u001b[1;32m~\\anaconda3\\lib\\site-packages\\pandas\\util\\_decorators.py\u001b[0m in \u001b[0;36mwrapper\u001b[1;34m(*args, **kwargs)\u001b[0m\n\u001b[0;32m    309\u001b[0m                     \u001b[0mstacklevel\u001b[0m\u001b[1;33m=\u001b[0m\u001b[0mstacklevel\u001b[0m\u001b[1;33m,\u001b[0m\u001b[1;33m\u001b[0m\u001b[1;33m\u001b[0m\u001b[0m\n\u001b[0;32m    310\u001b[0m                 )\n\u001b[1;32m--> 311\u001b[1;33m             \u001b[1;32mreturn\u001b[0m \u001b[0mfunc\u001b[0m\u001b[1;33m(\u001b[0m\u001b[1;33m*\u001b[0m\u001b[0margs\u001b[0m\u001b[1;33m,\u001b[0m \u001b[1;33m**\u001b[0m\u001b[0mkwargs\u001b[0m\u001b[1;33m)\u001b[0m\u001b[1;33m\u001b[0m\u001b[1;33m\u001b[0m\u001b[0m\n\u001b[0m\u001b[0;32m    312\u001b[0m \u001b[1;33m\u001b[0m\u001b[0m\n\u001b[0;32m    313\u001b[0m         \u001b[1;32mreturn\u001b[0m \u001b[0mwrapper\u001b[0m\u001b[1;33m\u001b[0m\u001b[1;33m\u001b[0m\u001b[0m\n",
      "\u001b[1;32m~\\anaconda3\\lib\\site-packages\\pandas\\io\\parsers\\readers.py\u001b[0m in \u001b[0;36mread_csv\u001b[1;34m(filepath_or_buffer, sep, delimiter, header, names, index_col, usecols, squeeze, prefix, mangle_dupe_cols, dtype, engine, converters, true_values, false_values, skipinitialspace, skiprows, skipfooter, nrows, na_values, keep_default_na, na_filter, verbose, skip_blank_lines, parse_dates, infer_datetime_format, keep_date_col, date_parser, dayfirst, cache_dates, iterator, chunksize, compression, thousands, decimal, lineterminator, quotechar, quoting, doublequote, escapechar, comment, encoding, encoding_errors, dialect, error_bad_lines, warn_bad_lines, on_bad_lines, delim_whitespace, low_memory, memory_map, float_precision, storage_options)\u001b[0m\n\u001b[0;32m    584\u001b[0m     \u001b[0mkwds\u001b[0m\u001b[1;33m.\u001b[0m\u001b[0mupdate\u001b[0m\u001b[1;33m(\u001b[0m\u001b[0mkwds_defaults\u001b[0m\u001b[1;33m)\u001b[0m\u001b[1;33m\u001b[0m\u001b[1;33m\u001b[0m\u001b[0m\n\u001b[0;32m    585\u001b[0m \u001b[1;33m\u001b[0m\u001b[0m\n\u001b[1;32m--> 586\u001b[1;33m     \u001b[1;32mreturn\u001b[0m \u001b[0m_read\u001b[0m\u001b[1;33m(\u001b[0m\u001b[0mfilepath_or_buffer\u001b[0m\u001b[1;33m,\u001b[0m \u001b[0mkwds\u001b[0m\u001b[1;33m)\u001b[0m\u001b[1;33m\u001b[0m\u001b[1;33m\u001b[0m\u001b[0m\n\u001b[0m\u001b[0;32m    587\u001b[0m \u001b[1;33m\u001b[0m\u001b[0m\n\u001b[0;32m    588\u001b[0m \u001b[1;33m\u001b[0m\u001b[0m\n",
      "\u001b[1;32m~\\anaconda3\\lib\\site-packages\\pandas\\io\\parsers\\readers.py\u001b[0m in \u001b[0;36m_read\u001b[1;34m(filepath_or_buffer, kwds)\u001b[0m\n\u001b[0;32m    480\u001b[0m \u001b[1;33m\u001b[0m\u001b[0m\n\u001b[0;32m    481\u001b[0m     \u001b[1;31m# Create the parser.\u001b[0m\u001b[1;33m\u001b[0m\u001b[1;33m\u001b[0m\u001b[0m\n\u001b[1;32m--> 482\u001b[1;33m     \u001b[0mparser\u001b[0m \u001b[1;33m=\u001b[0m \u001b[0mTextFileReader\u001b[0m\u001b[1;33m(\u001b[0m\u001b[0mfilepath_or_buffer\u001b[0m\u001b[1;33m,\u001b[0m \u001b[1;33m**\u001b[0m\u001b[0mkwds\u001b[0m\u001b[1;33m)\u001b[0m\u001b[1;33m\u001b[0m\u001b[1;33m\u001b[0m\u001b[0m\n\u001b[0m\u001b[0;32m    483\u001b[0m \u001b[1;33m\u001b[0m\u001b[0m\n\u001b[0;32m    484\u001b[0m     \u001b[1;32mif\u001b[0m \u001b[0mchunksize\u001b[0m \u001b[1;32mor\u001b[0m \u001b[0miterator\u001b[0m\u001b[1;33m:\u001b[0m\u001b[1;33m\u001b[0m\u001b[1;33m\u001b[0m\u001b[0m\n",
      "\u001b[1;32m~\\anaconda3\\lib\\site-packages\\pandas\\io\\parsers\\readers.py\u001b[0m in \u001b[0;36m__init__\u001b[1;34m(self, f, engine, **kwds)\u001b[0m\n\u001b[0;32m    809\u001b[0m             \u001b[0mself\u001b[0m\u001b[1;33m.\u001b[0m\u001b[0moptions\u001b[0m\u001b[1;33m[\u001b[0m\u001b[1;34m\"has_index_names\"\u001b[0m\u001b[1;33m]\u001b[0m \u001b[1;33m=\u001b[0m \u001b[0mkwds\u001b[0m\u001b[1;33m[\u001b[0m\u001b[1;34m\"has_index_names\"\u001b[0m\u001b[1;33m]\u001b[0m\u001b[1;33m\u001b[0m\u001b[1;33m\u001b[0m\u001b[0m\n\u001b[0;32m    810\u001b[0m \u001b[1;33m\u001b[0m\u001b[0m\n\u001b[1;32m--> 811\u001b[1;33m         \u001b[0mself\u001b[0m\u001b[1;33m.\u001b[0m\u001b[0m_engine\u001b[0m \u001b[1;33m=\u001b[0m \u001b[0mself\u001b[0m\u001b[1;33m.\u001b[0m\u001b[0m_make_engine\u001b[0m\u001b[1;33m(\u001b[0m\u001b[0mself\u001b[0m\u001b[1;33m.\u001b[0m\u001b[0mengine\u001b[0m\u001b[1;33m)\u001b[0m\u001b[1;33m\u001b[0m\u001b[1;33m\u001b[0m\u001b[0m\n\u001b[0m\u001b[0;32m    812\u001b[0m \u001b[1;33m\u001b[0m\u001b[0m\n\u001b[0;32m    813\u001b[0m     \u001b[1;32mdef\u001b[0m \u001b[0mclose\u001b[0m\u001b[1;33m(\u001b[0m\u001b[0mself\u001b[0m\u001b[1;33m)\u001b[0m\u001b[1;33m:\u001b[0m\u001b[1;33m\u001b[0m\u001b[1;33m\u001b[0m\u001b[0m\n",
      "\u001b[1;32m~\\anaconda3\\lib\\site-packages\\pandas\\io\\parsers\\readers.py\u001b[0m in \u001b[0;36m_make_engine\u001b[1;34m(self, engine)\u001b[0m\n\u001b[0;32m   1038\u001b[0m             )\n\u001b[0;32m   1039\u001b[0m         \u001b[1;31m# error: Too many arguments for \"ParserBase\"\u001b[0m\u001b[1;33m\u001b[0m\u001b[1;33m\u001b[0m\u001b[0m\n\u001b[1;32m-> 1040\u001b[1;33m         \u001b[1;32mreturn\u001b[0m \u001b[0mmapping\u001b[0m\u001b[1;33m[\u001b[0m\u001b[0mengine\u001b[0m\u001b[1;33m]\u001b[0m\u001b[1;33m(\u001b[0m\u001b[0mself\u001b[0m\u001b[1;33m.\u001b[0m\u001b[0mf\u001b[0m\u001b[1;33m,\u001b[0m \u001b[1;33m**\u001b[0m\u001b[0mself\u001b[0m\u001b[1;33m.\u001b[0m\u001b[0moptions\u001b[0m\u001b[1;33m)\u001b[0m  \u001b[1;31m# type: ignore[call-arg]\u001b[0m\u001b[1;33m\u001b[0m\u001b[1;33m\u001b[0m\u001b[0m\n\u001b[0m\u001b[0;32m   1041\u001b[0m \u001b[1;33m\u001b[0m\u001b[0m\n\u001b[0;32m   1042\u001b[0m     \u001b[1;32mdef\u001b[0m \u001b[0m_failover_to_python\u001b[0m\u001b[1;33m(\u001b[0m\u001b[0mself\u001b[0m\u001b[1;33m)\u001b[0m\u001b[1;33m:\u001b[0m\u001b[1;33m\u001b[0m\u001b[1;33m\u001b[0m\u001b[0m\n",
      "\u001b[1;32m~\\anaconda3\\lib\\site-packages\\pandas\\io\\parsers\\c_parser_wrapper.py\u001b[0m in \u001b[0;36m__init__\u001b[1;34m(self, src, **kwds)\u001b[0m\n\u001b[0;32m     49\u001b[0m \u001b[1;33m\u001b[0m\u001b[0m\n\u001b[0;32m     50\u001b[0m         \u001b[1;31m# open handles\u001b[0m\u001b[1;33m\u001b[0m\u001b[1;33m\u001b[0m\u001b[0m\n\u001b[1;32m---> 51\u001b[1;33m         \u001b[0mself\u001b[0m\u001b[1;33m.\u001b[0m\u001b[0m_open_handles\u001b[0m\u001b[1;33m(\u001b[0m\u001b[0msrc\u001b[0m\u001b[1;33m,\u001b[0m \u001b[0mkwds\u001b[0m\u001b[1;33m)\u001b[0m\u001b[1;33m\u001b[0m\u001b[1;33m\u001b[0m\u001b[0m\n\u001b[0m\u001b[0;32m     52\u001b[0m         \u001b[1;32massert\u001b[0m \u001b[0mself\u001b[0m\u001b[1;33m.\u001b[0m\u001b[0mhandles\u001b[0m \u001b[1;32mis\u001b[0m \u001b[1;32mnot\u001b[0m \u001b[1;32mNone\u001b[0m\u001b[1;33m\u001b[0m\u001b[1;33m\u001b[0m\u001b[0m\n\u001b[0;32m     53\u001b[0m \u001b[1;33m\u001b[0m\u001b[0m\n",
      "\u001b[1;32m~\\anaconda3\\lib\\site-packages\\pandas\\io\\parsers\\base_parser.py\u001b[0m in \u001b[0;36m_open_handles\u001b[1;34m(self, src, kwds)\u001b[0m\n\u001b[0;32m    220\u001b[0m         \u001b[0mLet\u001b[0m \u001b[0mthe\u001b[0m \u001b[0mreaders\u001b[0m \u001b[0mopen\u001b[0m \u001b[0mIOHandles\u001b[0m \u001b[0mafter\u001b[0m \u001b[0mthey\u001b[0m \u001b[0mare\u001b[0m \u001b[0mdone\u001b[0m \u001b[1;32mwith\u001b[0m \u001b[0mtheir\u001b[0m \u001b[0mpotential\u001b[0m \u001b[0mraises\u001b[0m\u001b[1;33m.\u001b[0m\u001b[1;33m\u001b[0m\u001b[1;33m\u001b[0m\u001b[0m\n\u001b[0;32m    221\u001b[0m         \"\"\"\n\u001b[1;32m--> 222\u001b[1;33m         self.handles = get_handle(\n\u001b[0m\u001b[0;32m    223\u001b[0m             \u001b[0msrc\u001b[0m\u001b[1;33m,\u001b[0m\u001b[1;33m\u001b[0m\u001b[1;33m\u001b[0m\u001b[0m\n\u001b[0;32m    224\u001b[0m             \u001b[1;34m\"r\"\u001b[0m\u001b[1;33m,\u001b[0m\u001b[1;33m\u001b[0m\u001b[1;33m\u001b[0m\u001b[0m\n",
      "\u001b[1;32m~\\anaconda3\\lib\\site-packages\\pandas\\io\\common.py\u001b[0m in \u001b[0;36mget_handle\u001b[1;34m(path_or_buf, mode, encoding, compression, memory_map, is_text, errors, storage_options)\u001b[0m\n\u001b[0;32m    700\u001b[0m         \u001b[1;32mif\u001b[0m \u001b[0mioargs\u001b[0m\u001b[1;33m.\u001b[0m\u001b[0mencoding\u001b[0m \u001b[1;32mand\u001b[0m \u001b[1;34m\"b\"\u001b[0m \u001b[1;32mnot\u001b[0m \u001b[1;32min\u001b[0m \u001b[0mioargs\u001b[0m\u001b[1;33m.\u001b[0m\u001b[0mmode\u001b[0m\u001b[1;33m:\u001b[0m\u001b[1;33m\u001b[0m\u001b[1;33m\u001b[0m\u001b[0m\n\u001b[0;32m    701\u001b[0m             \u001b[1;31m# Encoding\u001b[0m\u001b[1;33m\u001b[0m\u001b[1;33m\u001b[0m\u001b[0m\n\u001b[1;32m--> 702\u001b[1;33m             handle = open(\n\u001b[0m\u001b[0;32m    703\u001b[0m                 \u001b[0mhandle\u001b[0m\u001b[1;33m,\u001b[0m\u001b[1;33m\u001b[0m\u001b[1;33m\u001b[0m\u001b[0m\n\u001b[0;32m    704\u001b[0m                 \u001b[0mioargs\u001b[0m\u001b[1;33m.\u001b[0m\u001b[0mmode\u001b[0m\u001b[1;33m,\u001b[0m\u001b[1;33m\u001b[0m\u001b[1;33m\u001b[0m\u001b[0m\n",
      "\u001b[1;31mFileNotFoundError\u001b[0m: [Errno 2] No such file or directory: 'train.csv'"
     ]
    }
   ],
   "source": [
    "df = pd.read_csv('train.csv')"
   ]
  },
  {
   "cell_type": "code",
   "execution_count": null,
   "metadata": {
    "execution": {
     "iopub.execute_input": "2023-01-18T12:36:47.763626Z",
     "iopub.status.busy": "2023-01-18T12:36:47.763210Z",
     "iopub.status.idle": "2023-01-18T12:36:47.781796Z",
     "shell.execute_reply": "2023-01-18T12:36:47.779667Z",
     "shell.execute_reply.started": "2023-01-18T12:36:47.763593Z"
    }
   },
   "outputs": [],
   "source": [
    "df.drop(['PoolQC','Fence','GarageYrBlt','BsmtHalfBath','BsmtFullBath','BedroomAbvGr','Heating','RoofMatl','Condition1','Condition2','LandSlope','Utilities','LandContour','Alley','Street','MiscFeature','LowQualFinSF','BldgType'],inplace=True,axis=1)\n",
    "df.drop(['2ndFlrSF','1stFlrSF'],inplace=True,axis=1)\n",
    "len(df.columns)"
   ]
  },
  {
   "cell_type": "code",
   "execution_count": null,
   "metadata": {
    "execution": {
     "iopub.execute_input": "2023-01-18T12:36:53.178883Z",
     "iopub.status.busy": "2023-01-18T12:36:53.178404Z",
     "iopub.status.idle": "2023-01-18T12:36:53.192830Z",
     "shell.execute_reply": "2023-01-18T12:36:53.191311Z",
     "shell.execute_reply.started": "2023-01-18T12:36:53.178846Z"
    }
   },
   "outputs": [],
   "source": [
    "df['%_q1'], df['%_q2'] = df['BsmtFinSF1']/df['TotalBsmtSF'],df['BsmtFinSF2']/df['TotalBsmtSF']\n",
    "df['%_finished'] = df['%_q1']+df['%_q2']\n",
    "df.drop(['BsmtFinSF1','BsmtFinSF2'],axis=1,inplace=True)"
   ]
  },
  {
   "cell_type": "code",
   "execution_count": null,
   "metadata": {
    "execution": {
     "iopub.execute_input": "2023-01-17T19:39:39.571059Z",
     "iopub.status.busy": "2023-01-17T19:39:39.570642Z",
     "iopub.status.idle": "2023-01-17T19:39:39.605937Z",
     "shell.execute_reply": "2023-01-17T19:39:39.604965Z",
     "shell.execute_reply.started": "2023-01-17T19:39:39.571027Z"
    }
   },
   "outputs": [],
   "source": [
    "print(df[['%_q1','%_q2','%_finished']].describe())\n",
    "df[['%_q1','%_q2','%_finished']].head()"
   ]
  },
  {
   "cell_type": "code",
   "execution_count": null,
   "metadata": {
    "execution": {
     "iopub.execute_input": "2023-01-18T12:37:01.460758Z",
     "iopub.status.busy": "2023-01-18T12:37:01.460129Z",
     "iopub.status.idle": "2023-01-18T12:37:01.475650Z",
     "shell.execute_reply": "2023-01-18T12:37:01.473885Z",
     "shell.execute_reply.started": "2023-01-18T12:37:01.460707Z"
    }
   },
   "outputs": [],
   "source": [
    "df['MSSubClass'] = df['MSSubClass']/10\n",
    "df['LotFrontage'].fillna(0,inplace=True)\n",
    "df['LotFrontage'].describe()"
   ]
  },
  {
   "cell_type": "code",
   "execution_count": null,
   "metadata": {
    "execution": {
     "iopub.execute_input": "2023-01-18T12:37:05.169980Z",
     "iopub.status.busy": "2023-01-18T12:37:05.169559Z",
     "iopub.status.idle": "2023-01-18T12:37:05.179315Z",
     "shell.execute_reply": "2023-01-18T12:37:05.177821Z",
     "shell.execute_reply.started": "2023-01-18T12:37:05.169946Z"
    }
   },
   "outputs": [],
   "source": [
    "df['GarageType'] = df['GarageType'].apply(lambda x: 0 if x== np.nan else 1)"
   ]
  },
  {
   "cell_type": "code",
   "execution_count": null,
   "metadata": {
    "execution": {
     "iopub.execute_input": "2023-01-18T12:37:08.221139Z",
     "iopub.status.busy": "2023-01-18T12:37:08.220388Z",
     "iopub.status.idle": "2023-01-18T12:37:08.228469Z",
     "shell.execute_reply": "2023-01-18T12:37:08.227468Z",
     "shell.execute_reply.started": "2023-01-18T12:37:08.221102Z"
    }
   },
   "outputs": [],
   "source": [
    "len(df.columns)"
   ]
  },
  {
   "cell_type": "code",
   "execution_count": null,
   "metadata": {
    "execution": {
     "iopub.execute_input": "2023-01-17T20:47:15.126535Z",
     "iopub.status.busy": "2023-01-17T20:47:15.125804Z",
     "iopub.status.idle": "2023-01-17T20:47:15.133639Z",
     "shell.execute_reply": "2023-01-17T20:47:15.132800Z",
     "shell.execute_reply.started": "2023-01-17T20:47:15.126499Z"
    }
   },
   "outputs": [],
   "source": [
    "df['GarageQual'].unique()\n",
    "df['GarageCond'].unique()"
   ]
  },
  {
   "cell_type": "code",
   "execution_count": null,
   "metadata": {
    "execution": {
     "iopub.execute_input": "2023-01-18T12:50:56.231820Z",
     "iopub.status.busy": "2023-01-18T12:50:56.231378Z",
     "iopub.status.idle": "2023-01-18T12:50:56.243184Z",
     "shell.execute_reply": "2023-01-18T12:50:56.241450Z",
     "shell.execute_reply.started": "2023-01-18T12:50:56.231786Z"
    }
   },
   "outputs": [],
   "source": [
    "def numerate(x):\n",
    "    if x == 'Ex':\n",
    "        return 5\n",
    "    elif x == 'Gd':\n",
    "        return 4\n",
    "    elif x == 'TA':\n",
    "        return 3\n",
    "    elif x == 'Fa':\n",
    "        return 2\n",
    "    elif x == 'Po':\n",
    "        return 1\n",
    "    else:\n",
    "        return 0\n",
    "def numerate1(x):\n",
    "    if x == 'GLQ':\n",
    "        return 10\n",
    "    elif x == 'ALQ':\n",
    "        return 7\n",
    "    elif x == 'BLQ':\n",
    "        return 5\n",
    "    elif x == 'Rec':\n",
    "        return 4\n",
    "    elif x == 'LWQ':\n",
    "        return 2\n",
    "    elif x == 'Unf':\n",
    "        return 1\n",
    "    else:\n",
    "        return 0\n",
    "\n",
    "def numerate2(x):\n",
    "    if x == 'Gd':\n",
    "        return 5\n",
    "    elif x == 'Av':\n",
    "        return 4\n",
    "    elif x == 'Mn':\n",
    "        return 3\n",
    "    elif x == 'No':\n",
    "        return 2\n",
    "    elif x == 'NA':\n",
    "        return 1\n",
    "    else:\n",
    "        return 0\n",
    "    \n",
    "def numerate3(x):\n",
    "    if x == 'Y':\n",
    "        return 3\n",
    "    elif x == 'P':\n",
    "        return 1\n",
    "    else:\n",
    "        0"
   ]
  },
  {
   "cell_type": "code",
   "execution_count": null,
   "metadata": {
    "execution": {
     "iopub.execute_input": "2023-01-18T12:57:01.973435Z",
     "iopub.status.busy": "2023-01-18T12:57:01.973016Z",
     "iopub.status.idle": "2023-01-18T12:57:01.990371Z",
     "shell.execute_reply": "2023-01-18T12:57:01.989365Z",
     "shell.execute_reply.started": "2023-01-18T12:57:01.973403Z"
    }
   },
   "outputs": [],
   "source": [
    "# df['GarageQual'] = df['GarageQual'].apply(numerate)\n",
    "# df['KitchenQual'] = df['KitchenQual'].apply(numerate)\n",
    "# df['GarageCond'] = df['GarageCond'].apply(numerate)\n",
    "# df['ExterCond'] = df['ExterCond'].apply(numerate)\n",
    "# df['ExterQual'] = df['ExterQual'].apply(numerate)\n",
    "# df['BsmtQual'] = df['BsmtQual'].apply(numerate)\n",
    "# df['BsmtCond'] = df['BsmtCond'].apply(numerate)\n",
    "#df['FireplaceQu'] = df['FireplaceQu'].apply(numerate)\n",
    "#df['CentralAir'] = df['CentralAir'].apply(lambda x: 1 if x=='Y' else 0)\n",
    "df['PavedDrive'] = df['PavedDrive'].apply(numerate3)\n",
    "df['BsmtExposure'] = df['BsmtExposure'].apply(numerate2)\n",
    "df['BsmtFinType1'] = df['BsmtFinType1'].apply(numerate1)\n",
    "df['BsmtFinType2'] = df['BsmtFinType2'].apply(numerate1)\n",
    "df['HeatingQC'] = df['HeatingQC'].apply(numerate)"
   ]
  },
  {
   "cell_type": "code",
   "execution_count": null,
   "metadata": {
    "execution": {
     "iopub.execute_input": "2023-01-18T12:37:18.170843Z",
     "iopub.status.busy": "2023-01-18T12:37:18.170023Z",
     "iopub.status.idle": "2023-01-18T12:37:18.183720Z",
     "shell.execute_reply": "2023-01-18T12:37:18.182219Z",
     "shell.execute_reply.started": "2023-01-18T12:37:18.170805Z"
    }
   },
   "outputs": [],
   "source": [
    "df[['GarageQual','GarageCond']].head()"
   ]
  },
  {
   "cell_type": "code",
   "execution_count": null,
   "metadata": {
    "execution": {
     "iopub.execute_input": "2023-01-18T12:38:02.079189Z",
     "iopub.status.busy": "2023-01-18T12:38:02.078343Z",
     "iopub.status.idle": "2023-01-18T12:38:02.098612Z",
     "shell.execute_reply": "2023-01-18T12:38:02.096533Z",
     "shell.execute_reply.started": "2023-01-18T12:38:02.079115Z"
    }
   },
   "outputs": [],
   "source": [
    "from sklearn.decomposition import PCA\n",
    "pca = PCA(n_components=1)\n",
    "df['GarageQ_pca'] = pca.fit_transform(df[['GarageQual','GarageCond']])\n",
    "df.drop(['GarageQual','GarageCond'],axis=1,inplace=True)\n",
    "df['GarageYear_pca'] = pca.fit_transform(df[['YearBuilt','YearRemodAdd']])\n",
    "df.drop(['YearBuilt','YearRemodAdd'],axis=1,inplace=True)\n",
    "df['Overall_pca'] = pca.fit_transform(df[['OverallQual','OverallCond']])\n",
    "df.drop(['OverallQual','OverallCond'],axis=1,inplace=True)\n",
    "df['Porch_pca'] = pca.fit_transform(df[['OpenPorchSF','EnclosedPorch','3SsnPorch','ScreenPorch']])\n",
    "df.drop(['OpenPorchSF','EnclosedPorch','3SsnPorch','ScreenPorch'],axis=1,inplace=True)\n",
    "df['GrgCarArea_pca'] = pca.fit_transform(df[['GarageCars','GarageArea']])\n",
    "df.drop(['GarageCars','GarageArea'],axis=1,inplace=True)\n",
    "df['Exter_pca'] = pca.fit_transform(df[['ExterCond','ExterQual']])\n",
    "df.drop(['ExterCond','ExterQual'],axis=1,inplace=True)\n",
    "df['Bsmnt_pca'] = pca.fit_transform(df[['BsmtQual','BsmtCond']])\n",
    "df.drop(['BsmtQual','BsmtCond'],axis=1,inplace=True)\n"
   ]
  },
  {
   "cell_type": "code",
   "execution_count": null,
   "metadata": {
    "execution": {
     "iopub.execute_input": "2023-01-18T12:57:16.734224Z",
     "iopub.status.busy": "2023-01-18T12:57:16.733809Z",
     "iopub.status.idle": "2023-01-18T12:57:16.767815Z",
     "shell.execute_reply": "2023-01-18T12:57:16.766518Z",
     "shell.execute_reply.started": "2023-01-18T12:57:16.734189Z"
    }
   },
   "outputs": [],
   "source": [
    "for i in range(5):\n",
    "    print(df[df.columns[i*13:(i+1)*13]].head())"
   ]
  },
  {
   "cell_type": "code",
   "execution_count": null,
   "metadata": {
    "execution": {
     "iopub.execute_input": "2023-01-17T20:17:10.919605Z",
     "iopub.status.busy": "2023-01-17T20:17:10.918391Z",
     "iopub.status.idle": "2023-01-17T20:17:10.930145Z",
     "shell.execute_reply": "2023-01-17T20:17:10.928758Z",
     "shell.execute_reply.started": "2023-01-17T20:17:10.919529Z"
    }
   },
   "outputs": [],
   "source": [
    "from sklearn.preprocessing import LabelEncoder\n",
    "le = LabelEncoder()\n",
    "le.fit(df['MSZoning'])\n",
    "print(le.classes_)"
   ]
  },
  {
   "cell_type": "code",
   "execution_count": null,
   "metadata": {
    "execution": {
     "iopub.execute_input": "2023-01-17T20:19:50.034811Z",
     "iopub.status.busy": "2023-01-17T20:19:50.034296Z",
     "iopub.status.idle": "2023-01-17T20:19:50.050237Z",
     "shell.execute_reply": "2023-01-17T20:19:50.048996Z",
     "shell.execute_reply.started": "2023-01-17T20:19:50.034772Z"
    }
   },
   "outputs": [],
   "source": [
    "df['MSZoning'] = le.inverse_transform(df['MSZoning'])\n",
    "df['MSZoning'].describe()"
   ]
  },
  {
   "cell_type": "code",
   "execution_count": null,
   "metadata": {
    "execution": {
     "iopub.execute_input": "2023-01-17T20:22:42.905641Z",
     "iopub.status.busy": "2023-01-17T20:22:42.904421Z",
     "iopub.status.idle": "2023-01-17T20:22:42.914715Z",
     "shell.execute_reply": "2023-01-17T20:22:42.913501Z",
     "shell.execute_reply.started": "2023-01-17T20:22:42.905556Z"
    }
   },
   "outputs": [],
   "source": [
    "df.Neighborhood.nunique()"
   ]
  },
  {
   "cell_type": "code",
   "execution_count": null,
   "metadata": {
    "execution": {
     "iopub.execute_input": "2023-01-17T20:27:57.265896Z",
     "iopub.status.busy": "2023-01-17T20:27:57.265403Z",
     "iopub.status.idle": "2023-01-17T20:27:58.608578Z",
     "shell.execute_reply": "2023-01-17T20:27:58.607610Z",
     "shell.execute_reply.started": "2023-01-17T20:27:57.265861Z"
    }
   },
   "outputs": [],
   "source": [
    "import plotly.express as px"
   ]
  },
  {
   "cell_type": "code",
   "execution_count": null,
   "metadata": {
    "_kg_hide-input": true,
    "_kg_hide-output": true,
    "execution": {
     "iopub.execute_input": "2023-01-17T20:30:37.109555Z",
     "iopub.status.busy": "2023-01-17T20:30:37.108278Z",
     "iopub.status.idle": "2023-01-17T20:30:37.183579Z",
     "shell.execute_reply": "2023-01-17T20:30:37.181415Z",
     "shell.execute_reply.started": "2023-01-17T20:30:37.109506Z"
    }
   },
   "outputs": [],
   "source": [
    "px.histogram(df['HouseStyle'])"
   ]
  },
  {
   "cell_type": "code",
   "execution_count": null,
   "metadata": {},
   "outputs": [],
   "source": []
  }
 ],
 "metadata": {
  "kernelspec": {
   "display_name": "Python 3 (ipykernel)",
   "language": "python",
   "name": "python3"
  },
  "language_info": {
   "codemirror_mode": {
    "name": "ipython",
    "version": 3
   },
   "file_extension": ".py",
   "mimetype": "text/x-python",
   "name": "python",
   "nbconvert_exporter": "python",
   "pygments_lexer": "ipython3",
   "version": "3.9.7"
  }
 },
 "nbformat": 4,
 "nbformat_minor": 4
}
